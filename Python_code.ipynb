{
  "nbformat": 4,
  "nbformat_minor": 0,
  "metadata": {
    "colab": {
      "name": "Untitled7.ipynb",
      "provenance": []
    },
    "kernelspec": {
      "name": "python3",
      "display_name": "Python 3"
    },
    "language_info": {
      "name": "python"
    }
  },
  "cells": [
    {
      "cell_type": "markdown",
      "metadata": {
        "id": "KLNilD0R71dv"
      },
      "source": [
        "**TASK:** \n",
        "Exercise is to implement an algorithm that can generate a list of 96 words.\n",
        "Every word should be created using six (6) characters in total, all of which are to be picked from\n",
        "a four-letter alphabet consisting of A, C, G and T.\n",
        "Each word in the list must differ from every other word in the list in at least three positions.\n"
      ]
    },
    {
      "cell_type": "markdown",
      "metadata": {
        "id": "VH9eiB257JrL"
      },
      "source": [
        "**Python code for the problem solution**\n",
        "\n",
        "\n"
      ]
    },
    {
      "cell_type": "code",
      "metadata": {
        "id": "5HMFoS98z3VO"
      },
      "source": [
        "class WordGenerator:\n",
        "\n",
        "    def gen(self, wordList=None, numberWord=None): \n",
        "        '''\n",
        "          generate all combinations of ['A', 'C', 'G', 'T']*5\n",
        "        '''\n",
        "        wordListNew = map(lambda x: \"\".join(x), wordList)    \n",
        "        \n",
        "        newWordList = list()\n",
        "        list(map(lambda x: WordGenerator.check(x, newWordList, numberWord), list(wordListNew)))   \n",
        "        return newWordList\n",
        "\n",
        "    @staticmethod\n",
        "    def check(word=None, newWordList=None, numberWord=None):\n",
        "        '''\n",
        "          check all position difference that are only 3 or greater than 3\n",
        "        '''\n",
        "        result = [WordGenerator.diff(x, word) for x in newWordList]\n",
        "        if False not in result and len(newWordList) < numberWord:\n",
        "            newWordList.append(word)\n",
        "\n",
        "    @staticmethod\n",
        "    def diff(newWord=None, word=None):\n",
        "        if len([i for i, j in zip(list(newWord), word) if i != j]) < 3:\n",
        "            return False\n",
        "        return True\n"
      ],
      "execution_count": 39,
      "outputs": []
    },
    {
      "cell_type": "code",
      "metadata": {
        "colab": {
          "base_uri": "https://localhost:8080/"
        },
        "id": "BOgtfQAq2Xxs",
        "outputId": "de9f5378-21e5-4a4c-dd41-f23dda4d9f09"
      },
      "source": [
        "from itertools import combinations\n",
        "\n",
        "if __name__ == '__main__':\n",
        "\n",
        "    gen = WordGenerator()\n",
        "    result = gen.gen(list(combinations(['A', 'C', 'G', 'T'] * 5, 6)), 96)\n",
        "    for i, newWord in enumerate(result):\n",
        "        print(i, newWord)\n"
      ],
      "execution_count": 40,
      "outputs": [
        {
          "output_type": "stream",
          "text": [
            "0 ACGTAC\n",
            "1 ACGACG\n",
            "2 ACGCGT\n",
            "3 ACGGTA\n",
            "4 ACTAGA\n",
            "5 ACTCTC\n",
            "6 ACTGAG\n",
            "7 ACTTCT\n",
            "8 ACACAA\n",
            "9 ACAGCC\n",
            "10 ACATGG\n",
            "11 ACAATT\n",
            "12 AGTACC\n",
            "13 AGTCGG\n",
            "14 AGTGTT\n",
            "15 AGTTAA\n",
            "16 AGACCT\n",
            "17 AGAGGA\n",
            "18 AGATTC\n",
            "19 AGAAAG\n",
            "20 AGCGAC\n",
            "21 AGCTCG\n",
            "22 AGCAGT\n",
            "23 AGCCTA\n",
            "24 ATACGC\n",
            "25 ATAGTG\n",
            "26 ATATAT\n",
            "27 ATAACA\n",
            "28 ATCGCT\n",
            "29 ATCTGA\n",
            "30 ATCATC\n",
            "31 ATCCAG\n",
            "32 AACGGG\n",
            "33 AACTTT\n",
            "34 AACAAA\n",
            "35 AACCCC\n",
            "36 AAGTCA\n",
            "37 AAGAGC\n",
            "38 AAGCTG\n",
            "39 AAGGAT\n",
            "40 CGTATA\n",
            "41 CGTCAC\n",
            "42 CGTGCG\n",
            "43 CGTTGT\n",
            "44 CGACTG\n",
            "45 CGAGAT\n",
            "46 CGATCA\n",
            "47 CGAAGC\n",
            "48 CGGTAG\n",
            "49 CGGACT\n",
            "50 CGGCGA\n",
            "51 CGGGTC\n",
            "52 CTCGTA\n",
            "53 CTCTAC\n",
            "54 CTCACG\n",
            "55 CTCCGT\n",
            "56 CTGTTT\n",
            "57 CTGAAA\n",
            "58 CTGCCC\n",
            "59 CTGGGG\n",
            "60 CATAGG\n",
            "61 CATCTT\n",
            "62 CATGAA\n",
            "63 CATTCC\n",
            "64 CCTAAT\n",
            "65 CCTCCA\n",
            "66 CCTGGC\n",
            "67 CCTTTG\n",
            "68 GTACTA\n",
            "69 GTAGAC\n",
            "70 GTATCG\n",
            "71 GTAAGT\n",
            "72 GTGTGC\n",
            "73 GTGATG\n",
            "74 GTGCAT\n",
            "75 GTGGCA\n",
            "76 GACGTC\n",
            "77 GACTAG\n",
            "78 GACACT\n",
            "79 GACCGA\n",
            "80 GATAAC\n",
            "81 GATCCG\n",
            "82 GATGGT\n",
            "83 GATTTA\n",
            "84 GCCGAT\n",
            "85 GCCTCA\n",
            "86 GCCAGC\n",
            "87 GCCCTG\n",
            "88 TACGCA\n",
            "89 TACTGC\n",
            "90 TACATG\n",
            "91 TACCAT\n",
            "92 TAACGG\n",
            "93 TAAGTT\n",
            "94 TAATAA\n",
            "95 TAAACC\n"
          ],
          "name": "stdout"
        }
      ]
    },
    {
      "cell_type": "code",
      "metadata": {
        "id": "d0nO3DWF626b"
      },
      "source": [
        ""
      ],
      "execution_count": null,
      "outputs": []
    }
  ]
}